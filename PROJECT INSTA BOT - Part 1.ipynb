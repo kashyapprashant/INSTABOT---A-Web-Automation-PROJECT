{
 "cells": [
  {
   "cell_type": "code",
   "execution_count": 1,
   "metadata": {},
   "outputs": [],
   "source": [
    "# Import various important libraries to initialize Web Driver\n",
    "# pip install webdriver-manager\n",
    "from selenium import webdriver\n",
    "from selenium.webdriver.chrome.service import Service\n",
    "from webdriver_manager.chrome import ChromeDriverManager"
   ]
  },
  {
   "cell_type": "code",
   "execution_count": 2,
   "metadata": {},
   "outputs": [],
   "source": [
    "# To ignore Deprecation Warning \n",
    "import warnings\n",
    "warnings.filterwarnings(\"ignore\", category=DeprecationWarning)"
   ]
  },
  {
   "cell_type": "code",
   "execution_count": 1,
   "metadata": {},
   "outputs": [],
   "source": [
    "# Import libraries for Explicitly waiit\n",
    "from selenium.webdriver.support.ui import WebDriverWait\n",
    "from selenium.webdriver.support import expected_conditions as EC\n",
    "from selenium.webdriver.common.by import By"
   ]
  },
  {
   "cell_type": "code",
   "execution_count": 10,
   "metadata": {},
   "outputs": [
    {
     "name": "stderr",
     "output_type": "stream",
     "text": [
      "\n",
      "\n",
      "====== WebDriver manager ======\n",
      "Current google-chrome version is 96.0.4664\n",
      "Get LATEST chromedriver version for 96.0.4664 google-chrome\n",
      "Driver [C:\\Users\\Asus\\.wdm\\drivers\\chromedriver\\win32\\96.0.4664.45\\chromedriver.exe] found in cache\n"
     ]
    },
    {
     "data": {
      "text/plain": [
       "<selenium.webdriver.chrome.webdriver.WebDriver (session=\"959c3d58c53b85aea3b05d9c859c8007\")>"
      ]
     },
     "execution_count": 10,
     "metadata": {},
     "output_type": "execute_result"
    }
   ],
   "source": [
    "# Initializing Web Driver Session\n",
    "s=Service(ChromeDriverManager().install())\n",
    "driver = webdriver.Chrome(executable_path='C:/Users/Asus/.wdm/drivers/chromedriver/win32/96.0.4664.45/chromedriver.exe')\n",
    "driver"
   ]
  },
  {
   "cell_type": "markdown",
   "metadata": {},
   "source": [
    "## Question 1"
   ]
  },
  {
   "cell_type": "markdown",
   "metadata": {},
   "source": [
    "### **Login to your Instagram Handle**\n",
    "Submit with sample username and password"
   ]
  },
  {
   "cell_type": "code",
   "execution_count": 58,
   "metadata": {},
   "outputs": [],
   "source": [
    "# Load the url of Instagram Login page\n",
    "driver.get('https://www.instagram.com/')\n",
    "\n",
    "# Implicitly Wait to load Website\n",
    "driver.implicitly_wait(10)\n",
    "\n",
    "# Enter Username and Password\n",
    "driver.find_element_by_name('username').send_keys('username')\n",
    "driver.find_element_by_name('password').send_keys('password')\n",
    "\n",
    "# Now click to Login Button\n",
    "driver.find_element_by_xpath('//button[@type=\"submit\"]').click()"
   ]
  },
  {
   "cell_type": "code",
   "execution_count": 59,
   "metadata": {},
   "outputs": [],
   "source": [
    "# Click the Not now button to do not save info\n",
    "driver.find_elements_by_xpath('//button[@type=\"button\"]')[1].click()"
   ]
  },
  {
   "cell_type": "code",
   "execution_count": 60,
   "metadata": {},
   "outputs": [],
   "source": [
    "# click the Not now button to do not turn on of Notification\n",
    "driver.find_elements_by_xpath('//div[@class=\"mt3GC\"]/button')[1].click()"
   ]
  },
  {
   "cell_type": "markdown",
   "metadata": {},
   "source": [
    "## Question 2"
   ]
  },
  {
   "cell_type": "markdown",
   "metadata": {},
   "source": [
    "### **Type for “food” in search bar and print all the names of the Instagram Handles that are displayed in list after typing “food”**\n",
    "Note : Make sure to avoid printing hashtags"
   ]
  },
  {
   "cell_type": "code",
   "execution_count": 61,
   "metadata": {},
   "outputs": [
    {
     "name": "stdout",
     "output_type": "stream",
     "text": [
      "foodtalkindia\n",
      "delhi_street_food1\n",
      "kanpurfoodexplorers\n",
      "foodozers\n",
      "peppa_foodie\n",
      "bazaar_foodie\n",
      "food\n",
      "official_food_hub\n",
      "london.food\n",
      "foods_of_lucknow\n",
      "food.babyy_\n",
      "delhiicious\n",
      "foodiee_on_road\n",
      "veganfoodadventure\n",
      "foodgully\n",
      "foodpostx\n",
      "food.__.factory_\n",
      "foodys\n",
      "kanpur_foodies\n",
      "heaven.served\n",
      "lucknow_cats\n",
      "wetmouths\n",
      "fruit_food_kiev\n",
      "food_ka_bhanderrrr\n",
      "globalfoodlove\n",
      "lifeandtime\n",
      "foodo_therapy\n",
      "food_flavours94\n",
      "food_bunny98\n",
      "aaayesha_singhhh\n",
      "indiafoodiegram\n",
      "food4less_bend\n",
      "garyxworld\n",
      "food_wid_feelings\n",
      "food_fantasy_19\n",
      "gajabfood\n",
      "food_food_delhi\n",
      "foodyvishal\n",
      "agraeaters\n",
      "lucknow_ka_foodie\n",
      "Food\n",
      "science_and_food\n",
      "Food\n",
      "Food\n",
      "thehungryfellow_\n",
      "foodieecrush\n",
      "lucknow_food_lover\n",
      "foodholic.lucknow\n",
      "amdavadi.food\n",
      "lucknow_foodie\n",
      "food_spy95\n"
     ]
    }
   ],
   "source": [
    "# Enter the 'food' word in the search box\n",
    "driver.find_element_by_xpath('//input[@placeholder=\"Search\"]').send_keys('food')\n",
    "\n",
    "# Retrieve all displayed instagram handels in food_handels\n",
    "food_handels=driver.find_elements_by_xpath('//div[@role=\"none\"]')\n",
    "\n",
    "# Now print names of all instagram handels\n",
    "for i in food_handels:\n",
    "    # check if it is a hashtag then skip it\n",
    "    if i.text.split()[0][0]!='#':\n",
    "        print(i.text.split()[0])\n",
    "\n",
    "# Now clear Search Box\n",
    "driver.find_element_by_xpath('//input[@placeholder=\"Search\"]').clear()"
   ]
  },
  {
   "cell_type": "markdown",
   "metadata": {},
   "source": [
    "## Question 3"
   ]
  },
  {
   "cell_type": "markdown",
   "metadata": {},
   "source": [
    "### **Searching and Opening a profile**\n",
    "Open profile of 'So Delhi' "
   ]
  },
  {
   "cell_type": "code",
   "execution_count": 62,
   "metadata": {},
   "outputs": [],
   "source": [
    "# Enter the 'food' word in the search box \n",
    "driver.find_element_by_xpath('//input[@placeholder=\"Search\"]').send_keys('So Delhi')"
   ]
  },
  {
   "cell_type": "code",
   "execution_count": 63,
   "metadata": {},
   "outputs": [],
   "source": [
    "# Open profile of handle 'sodelhi'\n",
    "ans=driver.find_elements_by_xpath('//div[@role=\"none\"]')\n",
    "for i in ans:\n",
    "    if i.text.split()[0]=='sodelhi':\n",
    "        i.click()\n",
    "        break"
   ]
  },
  {
   "cell_type": "markdown",
   "metadata": {},
   "source": [
    "## Question 4"
   ]
  },
  {
   "cell_type": "markdown",
   "metadata": {},
   "source": [
    "### **Follow/Unfollow given handle - **\n",
    "\n",
    "1. Open the Instagram Handle of “So Delhi”\n",
    "2. Start following it. Print a message if you are already following\n",
    "3. After following, unfollow the instagram handle. Print a message if you have already unfollowed."
   ]
  },
  {
   "cell_type": "code",
   "execution_count": 64,
   "metadata": {},
   "outputs": [],
   "source": [
    "# Now save follow button in 'follow_btn'\n",
    "follow_btn=driver.find_element_by_xpath('//span[@class=\"vBF20 _1OSdk\"]/button')\n",
    "\n",
    "# checking If do not follow then click the 'follow_btn' otherwise print \"Already Following\"\n",
    "if follow_btn.text=='Follow':\n",
    "    follow_btn.click()\n",
    "else:\n",
    "    print(\"Already Following\")"
   ]
  },
  {
   "cell_type": "code",
   "execution_count": 65,
   "metadata": {},
   "outputs": [],
   "source": [
    "# Now save follow button in 'unfollow_btn'\n",
    "unfollow_btn=driver.find_element_by_xpath('//span[@class=\"vBF20 _1OSdk\"]/button')\n",
    "\n",
    "# checking If follow then click the 'unfollow_btn' otherwise print \"Already Unfollowed\"\n",
    "if unfollow_btn.text=='Follow':\n",
    "    print(\"Already Unfollowed\")\n",
    "else:\n",
    "    unfollow_btn.click()\n",
    "    driver.find_element_by_xpath('//div[@class=\"mt3GC\"]/button').click()"
   ]
  },
  {
   "cell_type": "code",
   "execution_count": 66,
   "metadata": {},
   "outputs": [],
   "source": [
    "# Back to main Page\n",
    "driver.back()"
   ]
  },
  {
   "cell_type": "markdown",
   "metadata": {},
   "source": [
    "## Question 5"
   ]
  },
  {
   "cell_type": "markdown",
   "metadata": {},
   "source": [
    "### **Like/Unlike posts**\n",
    "\n",
    "1. Liking the top 30 posts of the ‘dilsefoodie'. Print message if you have already liked it.\n",
    "2. Unliking the top 30 posts of the ‘dilsefoodie’. Print message if you have already unliked it."
   ]
  },
  {
   "cell_type": "code",
   "execution_count": 67,
   "metadata": {},
   "outputs": [],
   "source": [
    "# Enter the 'dilsefoodie' word in the search box\n",
    "driver.find_element_by_xpath('//input[@placeholder=\"Search\"]').send_keys('dilsefoodie')"
   ]
  },
  {
   "cell_type": "code",
   "execution_count": 68,
   "metadata": {},
   "outputs": [],
   "source": [
    "# Open profile of handle 'dilsefoodie'\n",
    "ans=driver.find_elements_by_xpath('//div[@role=\"none\"]')\n",
    "for i in ans:\n",
    "    if i.text.split()[0]=='dilsefoodie':\n",
    "        i.click()\n",
    "        break"
   ]
  },
  {
   "cell_type": "code",
   "execution_count": 69,
   "metadata": {},
   "outputs": [],
   "source": [
    "# Now click On first post\n",
    "driver.find_element_by_xpath('//div[@class=\"v1Nh3 kIKUG  _bz0w\"]').click()\n",
    "\n",
    "# To Moving between Posts save next button element in 'nxt_btn'\n",
    "nxt_btn=driver.find_element_by_xpath('//div[@class=\" l8mY4 feth3\"]/button')\n",
    "\n",
    "# Now likeing top 30 posts\n",
    "for i in range(1,31):\n",
    "    \n",
    "    # save like button in 'like_unlike_btn' \n",
    "    like_unlike_btn=driver.find_element_by_xpath('//span[@class=\"fr66n\"]/button')\n",
    "    \n",
    "    # Now checking post is already liked, if it is then print 'already liked it' otherwise click on like button\n",
    "    if 'Unlike' in like_unlike_btn.get_attribute('outerHTML'):\n",
    "        print('You have already liked it')\n",
    "    else:\n",
    "        like_unlike_btn.click()\n",
    "    \n",
    "    # To go to Next Post \n",
    "    nxt_btn.click()\n",
    "    # Waiting of driver to load the post\n",
    "    driver.implicitly_wait(5)\n",
    "    \n",
    "# Now click on close button\n",
    "driver.find_elements_by_xpath('//button[@class=\"wpO6b  \"]')[-1].click()"
   ]
  },
  {
   "cell_type": "code",
   "execution_count": 70,
   "metadata": {},
   "outputs": [],
   "source": [
    "# Now click On first post\n",
    "driver.find_element_by_xpath('//div[@class=\"v1Nh3 kIKUG  _bz0w\"]').click()\n",
    "\n",
    "# To Moving between Posts save next button element in 'nxt_btn'\n",
    "nxt_btn=driver.find_element_by_xpath('//div[@class=\" l8mY4 feth3\"]/button')\n",
    "\n",
    "# Now Unlikeing top 30 posts\n",
    "for i in range(1,31):\n",
    "    \n",
    "    # save like button in 'like_unlike_btn' \n",
    "    like_unlike_btn=driver.find_element_by_xpath('//span[@class=\"fr66n\"]/button')\n",
    "    \n",
    "    # Now checking post is already Unliked, if it is then print 'already Umliked it' otherwise click on Unlike button\n",
    "    if 'Unlike' in like_unlike_btn.get_attribute('outerHTML'):\n",
    "        like_unlike_btn.click()\n",
    "    else:\n",
    "        print('You have already Unliked it')\n",
    "    \n",
    "    # To go to Next Post \n",
    "    nxt_btn.click()\n",
    "    \n",
    "    # Waiting of driver to load the post\n",
    "    driver.implicitly_wait(5)\n",
    "    \n",
    "# Now click on close button\n",
    "driver.find_elements_by_xpath('//button[@class=\"wpO6b  \"]')[-1].click()"
   ]
  },
  {
   "cell_type": "code",
   "execution_count": 71,
   "metadata": {},
   "outputs": [],
   "source": [
    "# Back to main Page\n",
    "driver.find_element_by_xpath('//a[@href=\"/\"]').click()"
   ]
  },
  {
   "cell_type": "markdown",
   "metadata": {},
   "source": [
    "## Question 6"
   ]
  },
  {
   "cell_type": "markdown",
   "metadata": {},
   "source": [
    "### **Extract list of followers**\n",
    "\n",
    "1. Extract the usernames of the first 500 followers of ‘foodtalkindia’ and ‘sodelhi’.\n",
    "2. Now print all the followers of “foodtalkindia” that you are following but those who don’t follow you."
   ]
  },
  {
   "cell_type": "code",
   "execution_count": 90,
   "metadata": {},
   "outputs": [],
   "source": [
    "# Enter the 'foodtalkindia' word in the search box\n",
    "driver.find_element_by_xpath('//input[@placeholder=\"Search\"]').send_keys('foodtalkindia')"
   ]
  },
  {
   "cell_type": "code",
   "execution_count": 91,
   "metadata": {},
   "outputs": [],
   "source": [
    "# Open profile of handle 'foodtalkindia'\n",
    "ans=driver.find_elements_by_xpath('//div[@role=\"none\"]')\n",
    "for i in ans:\n",
    "    if i.text.split()[0]=='foodtalkindia':\n",
    "        i.click()\n",
    "        break"
   ]
  },
  {
   "cell_type": "code",
   "execution_count": 92,
   "metadata": {},
   "outputs": [],
   "source": [
    "# Open the followers List\n",
    "driver.find_element_by_xpath('//a[@class=\"-nal3 \"]').click()"
   ]
  },
  {
   "cell_type": "code",
   "execution_count": 81,
   "metadata": {},
   "outputs": [],
   "source": [
    "foodtalkindia_followers=[]\n",
    "\n",
    "# Run loop until load atleast 500 folloers \n",
    "while True:\n",
    "    \n",
    "    # save all followers in 'followers_list'\n",
    "    followers_list=driver.find_elements_by_xpath('//li[@class=\"wo9IH\"]')\n",
    "    if len(followers_list)>500:\n",
    "        break\n",
    "    \n",
    "    # waiting of driver to load followers\n",
    "    driver.implicitly_wait(10)\n",
    "    \n",
    "    # Load more Followers\n",
    "    driver.find_element_by_xpath('//div[@class=\"oMwYe\"]').click()\n",
    "    \n",
    "for i in range(1,501):\n",
    "    \n",
    "    # append username of all followers in list 'foodtalkindia_followers'\n",
    "    foodtalkindia_followers.append(followers_list[i].text.split()[0])\n",
    "    "
   ]
  },
  {
   "cell_type": "code",
   "execution_count": 82,
   "metadata": {},
   "outputs": [
    {
     "data": {
      "text/plain": [
       "500"
      ]
     },
     "execution_count": 82,
     "metadata": {},
     "output_type": "execute_result"
    }
   ],
   "source": [
    "len(foodtalkindia_followers)"
   ]
  },
  {
   "cell_type": "code",
   "execution_count": 83,
   "metadata": {},
   "outputs": [],
   "source": [
    "# back to main page\n",
    "driver.back()\n",
    "driver.back()"
   ]
  },
  {
   "cell_type": "code",
   "execution_count": 84,
   "metadata": {},
   "outputs": [],
   "source": [
    "# Enter the 'sodelhi' word in the search box\n",
    "driver.find_element_by_xpath('//input[@placeholder=\"Search\"]').send_keys('sodelhi')"
   ]
  },
  {
   "cell_type": "code",
   "execution_count": 85,
   "metadata": {},
   "outputs": [],
   "source": [
    "# Open profile of handle 'sodelhi'\n",
    "ans=driver.find_elements_by_xpath('//div[@role=\"none\"]')\n",
    "for i in ans:\n",
    "    if i.text.split()[0]=='sodelhi':\n",
    "        i.click()\n",
    "        break"
   ]
  },
  {
   "cell_type": "code",
   "execution_count": 86,
   "metadata": {},
   "outputs": [],
   "source": [
    "# Open the followers List\n",
    "driver.find_element_by_xpath('//a[@class=\"-nal3 \"]').click()"
   ]
  },
  {
   "cell_type": "code",
   "execution_count": 87,
   "metadata": {},
   "outputs": [],
   "source": [
    "sodelhi_followers=[]\n",
    "\n",
    "# Run loop until load atleast 500 folloers \n",
    "while True:\n",
    "    \n",
    "    # save all followers in 'followers_list'\n",
    "    followers_list=driver.find_elements_by_xpath('//li[@class=\"wo9IH\"]')\n",
    "    if len(followers_list)>500:\n",
    "        break\n",
    "    \n",
    "    # Load more Followers\n",
    "    driver.find_element_by_xpath('//div[@class=\"oMwYe\"]').click()\n",
    "    \n",
    "    # waiting of driver to load followers\n",
    "    driver.implicitly_wait(10)    \n",
    "    \n",
    "for i in range(1,501):\n",
    "    \n",
    "    # append username of all followers in list 'sodelhi_followers'\n",
    "    sodelhi_followers.append(followers_list[i].text.split()[0])"
   ]
  },
  {
   "cell_type": "code",
   "execution_count": 88,
   "metadata": {},
   "outputs": [
    {
     "data": {
      "text/plain": [
       "500"
      ]
     },
     "execution_count": 88,
     "metadata": {},
     "output_type": "execute_result"
    }
   ],
   "source": [
    "len(sodelhi_followers)"
   ]
  },
  {
   "cell_type": "code",
   "execution_count": 89,
   "metadata": {},
   "outputs": [],
   "source": [
    "# back to main page\n",
    "driver.back()\n",
    "driver.back()"
   ]
  },
  {
   "cell_type": "markdown",
   "metadata": {},
   "source": [
    "## Question 7"
   ]
  },
  {
   "cell_type": "markdown",
   "metadata": {},
   "source": [
    "### **Check the story of ‘coding.ninjas’. Consider the following Scenarios and print error messages accordingly -**\n",
    "\n",
    "1. If You have already seen the story.\n",
    "2. Or The user has no story.\n",
    "3. Or View the story if not yet seen."
   ]
  },
  {
   "cell_type": "code",
   "execution_count": 93,
   "metadata": {},
   "outputs": [],
   "source": [
    "# Enter the 'coding.ninjas' word in the search box\n",
    "driver.find_element_by_xpath('//input[@placeholder=\"Search\"]').send_keys('coding.ninjas')"
   ]
  },
  {
   "cell_type": "code",
   "execution_count": 94,
   "metadata": {},
   "outputs": [],
   "source": [
    "# Open profile of handle 'coding.ninjas'\n",
    "ans=driver.find_elements_by_xpath('//div[@role=\"none\"]')\n",
    "\n",
    "for i in ans:\n",
    "    if i.text.split()[0]=='coding.ninjas':\n",
    "        i.click()\n",
    "        break"
   ]
  },
  {
   "cell_type": "code",
   "execution_count": 95,
   "metadata": {},
   "outputs": [
    {
     "name": "stdout",
     "output_type": "stream",
     "text": [
      "User has no story\n"
     ]
    }
   ],
   "source": [
    "# check If user has story, if not then print \"User has no story\"\n",
    "if driver.find_element_by_xpath('//div[@class=\"XjzKX\"]/div').get_attribute('aria-disabled')=='true':\n",
    "    print(\"User has no story\")\n",
    "    \n",
    "# If user has story then check if it already seen, if not then click on story and print \"view the story\"\n",
    "# otherwise print \"You already seen story\"\n",
    "elif driver.find_element_by_xpath('//canvas[@class=\"CfWVH\"]').get_attribute('height')=='208':\n",
    "    print(\"You already seen Story\")\n",
    "else:\n",
    "    print(\"View the story\")\n",
    "    driver.find_element_by_xpath('//div[@class=\"RR-M- h5uC0\"]').click()"
   ]
  },
  {
   "cell_type": "code",
   "execution_count": 96,
   "metadata": {},
   "outputs": [],
   "source": [
    "# back to main page\n",
    "driver.back()"
   ]
  },
  {
   "cell_type": "code",
   "execution_count": 11,
   "metadata": {},
   "outputs": [],
   "source": [
    "# close the session of web driver\n",
    "driver.quit()"
   ]
  },
  {
   "cell_type": "code",
   "execution_count": null,
   "metadata": {},
   "outputs": [],
   "source": []
  }
 ],
 "metadata": {
  "kernelspec": {
   "display_name": "Python 3",
   "language": "python",
   "name": "python3"
  },
  "language_info": {
   "codemirror_mode": {
    "name": "ipython",
    "version": 3
   },
   "file_extension": ".py",
   "mimetype": "text/x-python",
   "name": "python",
   "nbconvert_exporter": "python",
   "pygments_lexer": "ipython3",
   "version": "3.8.5"
  }
 },
 "nbformat": 4,
 "nbformat_minor": 4
}
