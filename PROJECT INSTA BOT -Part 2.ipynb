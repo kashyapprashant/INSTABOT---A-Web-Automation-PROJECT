{
 "cells": [
  {
   "cell_type": "code",
   "execution_count": 1,
   "metadata": {},
   "outputs": [],
   "source": [
    "# pip install webdriver-manager\n",
    "from selenium import webdriver\n",
    "from selenium.webdriver.chrome.service import Service\n",
    "from webdriver_manager.chrome import ChromeDriverManager"
   ]
  },
  {
   "cell_type": "code",
   "execution_count": 2,
   "metadata": {},
   "outputs": [],
   "source": [
    "import warnings\n",
    "warnings.filterwarnings(\"ignore\", category=DeprecationWarning)"
   ]
  },
  {
   "cell_type": "code",
   "execution_count": 68,
   "metadata": {},
   "outputs": [],
   "source": [
    "from selenium.webdriver.support.ui import WebDriverWait\n",
    "from selenium.webdriver.support import expected_conditions as EC\n",
    "from selenium.webdriver.common.by import By\n",
    "from datetime import datetime\n",
    "import time\n",
    "import matplotlib.pyplot as plt\n",
    "import re\n",
    "import pandas as pd\n",
    "import numpy as np"
   ]
  },
  {
   "cell_type": "code",
   "execution_count": 4,
   "metadata": {},
   "outputs": [
    {
     "name": "stderr",
     "output_type": "stream",
     "text": [
      "[WDM] - \n",
      "\n",
      "[WDM] - ====== WebDriver manager ======\n",
      "[WDM] - Current google-chrome version is 95.0.4638\n",
      "[WDM] - Get LATEST driver version for 95.0.4638\n",
      "[WDM] - There is no [win32] chromedriver for browser 95.0.4638 in cache\n",
      "[WDM] - Get LATEST driver version for 95.0.4638\n",
      "[WDM] - Trying to download new driver from https://chromedriver.storage.googleapis.com/95.0.4638.69/chromedriver_win32.zip\n",
      "[WDM] - Driver has been saved in cache [C:\\Users\\PRASHANT KASHYAP\\.wdm\\drivers\\chromedriver\\win32\\95.0.4638.69]\n"
     ]
    },
    {
     "data": {
      "text/plain": [
       "<selenium.webdriver.chrome.webdriver.WebDriver (session=\"6e30470699df864d222aff5ad7b85e2e\")>"
      ]
     },
     "execution_count": 4,
     "metadata": {},
     "output_type": "execute_result"
    }
   ],
   "source": [
    "s=Service(ChromeDriverManager().install())\n",
    "driver = webdriver.Chrome(service=s)\n",
    "driver"
   ]
  },
  {
   "cell_type": "code",
   "execution_count": null,
   "metadata": {},
   "outputs": [],
   "source": [
    "# Load the url of Instagram Login page\n",
    "driver.get('https://www.instagram.com/')\n",
    "\n",
    "# Implicitly Wait to load Website\n",
    "driver.implicitly_wait(10)\n",
    "\n",
    "# Enter Username and Password\n",
    "driver.find_element_by_name('username').send_keys('sample username')\n",
    "driver.find_element_by_name('password').send_keys('sample password')\n",
    "\n",
    "# Now click to Login Button\n",
    "driver.find_element_by_xpath('//button[@type=\"submit\"]').click()"
   ]
  },
  {
   "cell_type": "code",
   "execution_count": 6,
   "metadata": {},
   "outputs": [],
   "source": [
    "# Click the Not now button to do not save info\n",
    "driver.find_elements_by_xpath('//button[@type=\"button\"]')[1].click()"
   ]
  },
  {
   "cell_type": "code",
   "execution_count": 7,
   "metadata": {},
   "outputs": [],
   "source": [
    "# click the Not now button to do not turn on of Notification\n",
    "driver.find_elements_by_xpath('//div[@class=\"mt3GC\"]/button')[1].click()"
   ]
  },
  {
   "cell_type": "markdown",
   "metadata": {},
   "source": [
    "## Question 1"
   ]
  },
  {
   "cell_type": "markdown",
   "metadata": {},
   "source": [
    "### **Now your friend has followed a lot of different food bloggers, he needs to analyse the habits of these bloggers.**\n",
    "\n",
    "1. From the list of instagram handles you obtained when you searched ‘food’ in previous project. Open the first 10 handles and find the top 5 which have the highest number of followers\n",
    "2. Now Find the number of posts these handles have done in the previous 3 days.\n",
    "3.Depict this information using a suitable graph."
   ]
  },
  {
   "cell_type": "code",
   "execution_count": 99,
   "metadata": {},
   "outputs": [],
   "source": [
    "# Enter the 'food' word in the search box\n",
    "driver.find_element_by_xpath('//input[@placeholder=\"Search\"]').send_keys('food')"
   ]
  },
  {
   "cell_type": "code",
   "execution_count": 100,
   "metadata": {},
   "outputs": [],
   "source": [
    "\n",
    "d={}\n",
    "handels=[]\n",
    "count=0\n",
    "\n",
    "# get hadles url in list \"handels\"\n",
    "for i in driver.find_elements_by_xpath('//div[@role=\"none\"]/a'):\n",
    "    if i.text.split()[0][0]!='#':\n",
    "        handels.append(i.get_attribute('href'))\n",
    "\n",
    "# get followers list of obtained hadles and save in a dictionsry \"d\"\n",
    "while count<10:\n",
    "    driver.get(handels[count])\n",
    "    fol=driver.find_element_by_xpath('//a[@class=\"-nal3 \"]/span').get_attribute('title').split(',')\n",
    "    followers=int(fol[0]+fol[1])\n",
    "    d[followers]=handels[count]\n",
    "    count+=1\n",
    "    driver.back()"
   ]
  },
  {
   "cell_type": "code",
   "execution_count": 101,
   "metadata": {},
   "outputs": [
    {
     "name": "stdout",
     "output_type": "stream",
     "text": [
      "official_food_hub\n",
      "peppa_foodie\n",
      "foodtalkindia\n",
      "foodozers\n",
      "food\n"
     ]
    }
   ],
   "source": [
    "# get the followers count list in 'fol_no' and sort it\n",
    "fol_no=list(d.keys())\n",
    "fol_no.sort(reverse=True)\n",
    "\n",
    "# now print top 5 hadles who have most followers\n",
    "for i in range(0,5):\n",
    "    print(d[fol_no[i]].split('/')[3])"
   ]
  },
  {
   "cell_type": "code",
   "execution_count": 102,
   "metadata": {},
   "outputs": [],
   "source": [
    "user_handles=[]\n",
    "post_count=[]\n",
    "\n",
    "# Now we run loop and get post data from top 5 hadles\n",
    "for i in range(0,5):\n",
    "    \n",
    "    driver.get(d[fol_no[i]])\n",
    "    no_of_post=0\n",
    "    # Now click On first post\n",
    "    driver.find_element_by_xpath('//div[@class=\"v1Nh3 kIKUG  _bz0w\"]').click()\n",
    "    \n",
    "    while True:\n",
    "        \n",
    "        # get date of post and replace ',' with ''\n",
    "        date_of_post=driver.find_element_by_xpath('//time[@class=\"_1o9PC Nzb55\"]').get_attribute('title')\n",
    "        date_of_post = date_of_post.replace(',', '')\n",
    "        \n",
    "        # now change date format in calculatable format\n",
    "        post_date = datetime.strptime(date_of_post, '%b %d %Y').date()\n",
    "        \n",
    "        # get the current date and chage format in calculatable format\n",
    "        current_date = datetime.today().strftime('%Y-%m-%d')\n",
    "        current_date = datetime.strptime(current_date, '%Y-%m-%d').date()\n",
    "        \n",
    "        # calculate the difference between dates\n",
    "        difference_in_date = (current_date-post_date).days\n",
    "        \n",
    "        # break the loop if difference of date is greater then 3\n",
    "        if difference_in_date>3:\n",
    "            break\n",
    "        \n",
    "        # go to next post\n",
    "        driver.find_element_by_xpath('//div[@class=\" l8mY4 feth3\"]/button').click()\n",
    "        no_of_post+=1\n",
    "    \n",
    "    user_handles.append(d[fol_no[i]].split('/')[3])\n",
    "    post_count.append(no_of_post)\n",
    "# Now click on close button\n",
    "driver.find_elements_by_xpath('//button[@class=\"wpO6b  \"]')[-1].click()"
   ]
  },
  {
   "cell_type": "code",
   "execution_count": 103,
   "metadata": {},
   "outputs": [],
   "source": [
    "# Back to main Page\n",
    "driver.find_element_by_xpath('//a[@href=\"/\"]').click()"
   ]
  },
  {
   "cell_type": "code",
   "execution_count": 104,
   "metadata": {},
   "outputs": [
    {
     "data": {
      "image/png": "[encoded data removed]",
      "text/plain": [
       "<Figure size 432x288 with 1 Axes>"
      ]
     },
     "metadata": {
      "needs_background": "light"
     },
     "output_type": "display_data"
    }
   ],
   "source": [
    "# Depict this information using a suitable graph.\n",
    "plt.bar(user_handles,post_count)\n",
    "plt.xticks(rotation=45)\n",
    "plt.grid()\n",
    "plt.show()"
   ]
  },
  {
   "cell_type": "markdown",
   "metadata": {},
   "source": [
    "## Question 2"
   ]
  },
  {
   "cell_type": "markdown",
   "metadata": {},
   "source": [
    "### **Your friend also needs a list of hashtags that he should use in his posts.**\n",
    "\n",
    "1. Open the 5 handles you obtained in the last question, and scrape the content of the first 10 posts of each handle.\n",
    "2. Prepare a list of all words used in all the scraped posts and calculate the frequency of each word.\n",
    "3. Create a csv file with two columns : the word and its frequency\n",
    "4. Now, find the hashtags that were most popular among these bloggers\n",
    "5. Plot a Pie Chart of the top 5 hashtags obtained and the number of times they were used by these bloggers in the scraped posts."
   ]
  },
  {
   "cell_type": "code",
   "execution_count": 105,
   "metadata": {},
   "outputs": [],
   "source": [
    "texts=\"\"\n",
    "\n",
    "# Run loop to get post content of top 5 handles\n",
    "for i in range(0,5):\n",
    "    \n",
    "    driver.get(d[fol_no[i]])\n",
    "    no_of_post=0\n",
    "\n",
    "    # Now click On first post\n",
    "    driver.find_element_by_xpath('//div[@class=\"v1Nh3 kIKUG  _bz0w\"]').click()\n",
    "    \n",
    "    while no_of_post<10:\n",
    "        \n",
    "        # get the text data in 'text'\n",
    "        content=driver.find_element_by_xpath('//div[@class=\"C4VMK\"]/span')\n",
    "        text=BeautifulSoup(content.get_attribute('outerHTML'),'html.parser').find('span').text\n",
    "        \n",
    "        # Add content of every post in \"texts\"\n",
    "        texts = texts + str(\" \") + str(text)\n",
    "        driver.find_element_by_xpath('//div[@class=\" l8mY4 feth3\"]/button').click()\n",
    "        no_of_post+=1\n",
    "        \n",
    "# Now click on close button\n",
    "driver.find_elements_by_xpath('//button[@class=\"wpO6b  \"]')[-1].click()"
   ]
  },
  {
   "cell_type": "code",
   "execution_count": 106,
   "metadata": {},
   "outputs": [],
   "source": [
    "# Special characters to be removed\n",
    "characters_not_required = \"[-/\\\"/=/+/“/”/*/-/👀/📷/😂/❤️/💪/🤦/🙄/😩/🤦🏻/🤤/🌍/🍜/🇫🇷/👉/😱/🍕/🙌/🍞/🍩/🍫/🍌/🍓/☕️/🍻/✈️/🍰/🍣/🌎/🍨/🍔/🍫/♂️/♀️/🍗/🥩/🍖/🌶/😋/👨‍/😮/😍/🍳/@/,/?/🔥/👏/😉/)/🥓/(/|/0-9/./:/!/💕/🌮/>/</🍴/🍅/🧀/🎉/🔒]\""
   ]
  },
  {
   "cell_type": "code",
   "execution_count": 107,
   "metadata": {},
   "outputs": [],
   "source": [
    "hastag_dictionary={}\n",
    "words_dictionary={}\n",
    "\n",
    "# split word by space and save in \"words\"\n",
    "words = texts.split(\" \")\n",
    "for word in words:\n",
    "    \n",
    "    # Removing special characters\n",
    "    word = re.sub(characters_not_required, \"\", word)\n",
    "    if word!=\"\":\n",
    "        \n",
    "        # if word is a hashtag then store in the hastag_dictionary then store in the words_dictionary\n",
    "        if word[0]==\"#\":\n",
    "            hastag_dictionary[word] = hastag_dictionary.get(word,0)+1\n",
    "            continue\n",
    "        words_dictionary[word] = words_dictionary.get(word,0)+1"
   ]
  },
  {
   "cell_type": "code",
   "execution_count": 108,
   "metadata": {},
   "outputs": [],
   "source": [
    "words = [ key for key,value in words_dictionary.items()]\n",
    "word_frequency = [ value for key,value in words_dictionary.items()]\n",
    "\n",
    "# Create a csv file with two columns : the word and its frequency\n",
    "columns = {\"Word\":words,\"Frequency\":word_frequency}\n",
    "# Dataframe created using Pandas which will help us to create the CSV file\n",
    "words_df = pd.DataFrame(columns)\n",
    "# Create the CSV file without Index values\n",
    "words_df.to_csv(r'WordFrequency.csv', index=False)"
   ]
  },
  {
   "cell_type": "code",
   "execution_count": 109,
   "metadata": {},
   "outputs": [
    {
     "data": {
      "image/png": "[encoded data removed]",
      "text/plain": [
       "<Figure size 432x288 with 1 Axes>"
      ]
     },
     "metadata": {},
     "output_type": "display_data"
    }
   ],
   "source": [
    "# Now, find the hashtags that were most popular among these bloggers\n",
    "hastag_with_frequency = [[value,key] for key,value in hastag_dictionary.items()]\n",
    "hastag_with_frequency.sort(reverse=True)\n",
    "\n",
    "# Plot a Pie Chart of the top 5 hashtags obtained and the number of times they were used by these bloggers in the scraped posts.\n",
    "top_five_hastags = [ i[1] for i in hastag_with_frequency[:5]]\n",
    "hastag_counts = [ i[0] for i in hastag_with_frequency[:5]]\n",
    "\n",
    "# Pie graph to get the idea of which hashtag has been used for most of the time.\n",
    "plt.pie(hastag_counts,labels=top_five_hastags,autopct=\"%.2f\")\n",
    "plt.show()"
   ]
  },
  {
   "cell_type": "code",
   "execution_count": 110,
   "metadata": {},
   "outputs": [],
   "source": [
    "# Back to main Page\n",
    "driver.find_element_by_xpath('//a[@href=\"/\"]').click()"
   ]
  },
  {
   "cell_type": "markdown",
   "metadata": {},
   "source": [
    "## Question 3"
   ]
  },
  {
   "cell_type": "markdown",
   "metadata": {},
   "source": [
    "### **You need to also calculate average followers : likes ratio for the obtained handles.**\n",
    "\n",
    "1. Followers : Likes ratio is calculated as follows:\n",
    "2. Find out the likes of the top 10 posts of the 5 handles obtained earlier.\n",
    "3. Calculate the average likes for a handle.\n",
    "4. Divide the average likes obtained from the number of followers of the handle to get the average followers:like ratio of each handle.\n",
    "5. Create a bar graph to depict the above obtained information."
   ]
  },
  {
   "cell_type": "code",
   "execution_count": 112,
   "metadata": {},
   "outputs": [],
   "source": [
    "likes_of_handles=[]\n",
    "\n",
    "# Run the loop to get total likes of top 10 posts of top 5 handles\n",
    "for i in range(0,5):\n",
    "    \n",
    "    driver.get(d[fol_no[i]])\n",
    "    no_of_post=0\n",
    "    total_likes=0\n",
    "\n",
    "    # Now click On first post\n",
    "    driver.find_element_by_xpath('//div[@class=\"v1Nh3 kIKUG  _bz0w\"]').click()\n",
    "    \n",
    "    # Run loop for top 10 posts\n",
    "    while no_of_post<10:\n",
    "        \n",
    "        # get post's likes in variable 'likes'\n",
    "        like_data = driver.find_element_by_xpath(\"//section[@class='EDfFK ygqzn']\")\n",
    "        likes = BeautifulSoup(like_data.get_attribute('outerHTML'),'html.parser').find('span').text.replace(',','')\n",
    "        \n",
    "        # If post is a picture then it shows only likes but if it is a video then it is show views\n",
    "        if \"views\" not in likes:\n",
    "            total_likes += int(likes)\n",
    "            post_for_like+=1\n",
    "        else:\n",
    "            \n",
    "            # click on views button to get likes data\n",
    "            button_like = driver.find_element_by_xpath('//span[contains(.,\" views\")]')\n",
    "            driver.execute_script(\"arguments[0].click();\", button_like)\n",
    "            like_data = WebDriverWait(driver,10).until(EC.presence_of_element_located((By.XPATH,\"//section[@class='EDfFK ygqzn']//div[contains(.,' likes')]\")))\n",
    "            like_html_data = BeautifulSoup(like_data.get_attribute('outerHTML'),'html.parser')\n",
    "            likes = int(like_html_data.find(class_ = 'vJRqr').find('span').text.replace(\",\",''))\n",
    "            \n",
    "            # add likes of every post in the total_likes\n",
    "            total_likes +=likes\n",
    "        \n",
    "        # get the next post\n",
    "        driver.find_element_by_xpath('//div[@class=\" l8mY4 feth3\"]/button').click()\n",
    "        no_of_post+=1\n",
    "        \n",
    "    # store total likes of every handle in likes_of_handles    \n",
    "    likes_of_handles.append(total_likes)\n",
    "        \n",
    "# Now click on close button\n",
    "driver.find_elements_by_xpath('//button[@class=\"wpO6b  \"]')[-1].click()"
   ]
  },
  {
   "cell_type": "code",
   "execution_count": 113,
   "metadata": {},
   "outputs": [
    {
     "name": "stdout",
     "output_type": "stream",
     "text": [
      "---------------------------------\n",
      "Average Likes\n",
      "---------------------------------\n",
      "official_food_hub 27\n",
      "peppa_foodie 16532\n",
      "foodtalkindia 253\n",
      "foodozers 14588\n",
      "food 512\n"
     ]
    }
   ],
   "source": [
    "print(\"---------------------------------\")\n",
    "print(\"Average Likes\")\n",
    "print(\"---------------------------------\")\n",
    "# To store the average_likes for each handle\n",
    "average_likes_list = []\n",
    "for i in range(5):\n",
    "    average_likes = likes_of_handles[i]/10\n",
    "    average_likes_list.append(average_likes)\n",
    "    print(d[fol_no[i]].split('/')[3],format(average_likes,\".0f\"))"
   ]
  },
  {
   "cell_type": "code",
   "execution_count": 114,
   "metadata": {},
   "outputs": [
    {
     "data": {
      "image/png": "[encoded data removed]",
      "text/plain": [
       "<Figure size 432x288 with 1 Axes>"
      ]
     },
     "metadata": {
      "needs_background": "light"
     },
     "output_type": "display_data"
    }
   ],
   "source": [
    "# Plot a bar graph to depict the above obtained information.\n",
    "plt.bar(user_handles,average_likes_list)\n",
    "plt.title('Average Likes')\n",
    "plt.grid()\n",
    "plt.show()"
   ]
  },
  {
   "cell_type": "code",
   "execution_count": 115,
   "metadata": {},
   "outputs": [
    {
     "name": "stdout",
     "output_type": "stream",
     "text": [
      "---------------------------------\n",
      "Ratio Avg Followers : Avg Likes\n",
      "---------------------------------\n",
      "official_food_hub 27119 : 26\n",
      "peppa_foodie 18 : 16532\n",
      "foodtalkindia 1213 : 253\n",
      "foodozers 17 : 14587\n",
      "food 292 : 512\n"
     ]
    }
   ],
   "source": [
    "print(\"---------------------------------\")\n",
    "print(\"Ratio Avg Followers : Avg Likes\")\n",
    "print(\"---------------------------------\")\n",
    "avg_followers = []\n",
    "for i in range(5):\n",
    "    avg_followers_count = int(fol_no[i]/average_likes_list[i])\n",
    "    avg_followers.append(avg_followers_count)\n",
    "    print(d[fol_no[i]].split('/')[3],avg_followers_count,':',int(average_likes_list[i]))"
   ]
  },
  {
   "cell_type": "code",
   "execution_count": 116,
   "metadata": {},
   "outputs": [
    {
     "data": {
      "image/png": "[encoded data removed]",
      "text/plain": [
       "<Figure size 432x288 with 1 Axes>"
      ]
     },
     "metadata": {
      "needs_background": "light"
     },
     "output_type": "display_data"
    }
   ],
   "source": [
    "# Create a bar graph to depict the above obtained information.\n",
    "plt.bar(user_handles,avg_followers)\n",
    "plt.title('Average Followers')\n",
    "plt.grid()\n",
    "plt.show()\n"
   ]
  },
  {
   "cell_type": "code",
   "execution_count": 117,
   "metadata": {},
   "outputs": [],
   "source": [
    "driver.quit()"
   ]
  },
  {
   "cell_type": "code",
   "execution_count": null,
   "metadata": {},
   "outputs": [],
   "source": []
  }
 ],
 "metadata": {
  "kernelspec": {
   "display_name": "Python 3",
   "language": "python",
   "name": "python3"
  },
  "language_info": {
   "codemirror_mode": {
    "name": "ipython",
    "version": 3
   },
   "file_extension": ".py",
   "mimetype": "text/x-python",
   "name": "python",
   "nbconvert_exporter": "python",
   "pygments_lexer": "ipython3",
   "version": "3.8.5"
  }
 },
 "nbformat": 4,
 "nbformat_minor": 4
}
